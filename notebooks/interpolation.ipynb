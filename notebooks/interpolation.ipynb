{
 "cells": [
  {
   "cell_type": "markdown",
   "id": "691897ae02658cd2",
   "metadata": {
    "collapsed": false
   },
   "source": [
    "# 将上海市旅游数据月分为日\n",
    "\n",
    "## 1.数据准备\n",
    "原则：将之前预测的2019全年数据分配作为上海市旅游入境疫情前全年数据日分配，2020-2024依照异常数据处理原则每年一分配"
   ]
  },
  {
   "cell_type": "code",
   "execution_count": 1,
   "id": "initial_id",
   "metadata": {
    "ExecuteTime": {
     "end_time": "2024-03-04T07:20:20.556015Z",
     "start_time": "2024-03-04T07:20:14.028209Z"
    },
    "collapsed": true
   },
   "outputs": [],
   "source": [
    "from sqlalchemy import create_engine\n",
    "import pandas as pd\n",
    "import matplotlib.pyplot as plt\n",
    "import torch\n",
    "\n",
    "# 创建数据库引擎\n",
    "database_url = \"sqlite:///../data/data.sqlite\"\n",
    "engine = create_engine(database_url)\n",
    "\n",
    "imputed_data_query = f\"SELECT * FROM hk_customs_daily_imputed\"\n",
    "df = pd.read_sql_query(imputed_data_query, engine, index_col='date')\n",
    "df.index = pd.to_datetime(df.index)"
   ]
  },
  {
   "cell_type": "code",
   "execution_count": 2,
   "id": "30019a634e16b39f",
   "metadata": {
    "ExecuteTime": {
     "end_time": "2024-03-04T07:20:22.834688Z",
     "start_time": "2024-03-04T07:20:22.822676Z"
    },
    "collapsed": false
   },
   "outputs": [],
   "source": [
    "# 计算每个月的总和\n",
    "monthly_sums = df.resample('ME').sum()\n",
    "# 初始化一个新的DataFrame来存储每日比例数据\n",
    "daily_ratios = pd.DataFrame(index=df.index)\n",
    "# 对于df中的每一列，计算每日比例\n",
    "for column in df.columns:\n",
    "    # 对于每个月，计算该月每一天的值占该月总和的比例\n",
    "    daily_ratios[column] = df[column] / df[column].resample('ME').transform('sum')"
   ]
  },
  {
   "cell_type": "code",
   "execution_count": 3,
   "id": "64f0d5140f84bc3d",
   "metadata": {
    "ExecuteTime": {
     "end_time": "2024-03-04T07:20:24.028351Z",
     "start_time": "2024-03-04T07:20:24.021698Z"
    },
    "collapsed": false
   },
   "outputs": [],
   "source": [
    "regular_slice_start = '2019-01-01'\n",
    "regular_slice_end = '2019-12-31'\n",
    "special_slice_start = '2020-01-01'\n",
    "special_slice_end = '2024-01-31'\n",
    "\n",
    "regular_ratios = daily_ratios[regular_slice_start:regular_slice_end]\n",
    "special_ratios = daily_ratios[special_slice_start:special_slice_end]"
   ]
  },
  {
   "cell_type": "code",
   "execution_count": null,
   "id": "eb8aa19d",
   "metadata": {},
   "outputs": [],
   "source": []
  }
 ],
 "metadata": {
  "kernelspec": {
   "display_name": "Python 3",
   "language": "python",
   "name": "python3"
  },
  "language_info": {
   "codemirror_mode": {
    "name": "ipython",
    "version": 3
   },
   "file_extension": ".py",
   "mimetype": "text/x-python",
   "name": "python",
   "nbconvert_exporter": "python",
   "pygments_lexer": "ipython3",
   "version": "3.11.8"
  }
 },
 "nbformat": 4,
 "nbformat_minor": 5
}
