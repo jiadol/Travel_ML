{
 "cells": [
  {
   "cell_type": "markdown",
   "source": [
    "# 将上海市旅游数据月分为日\n",
    "\n",
    "## 1.数据准备\n",
    "原则：将之前预测的2019全年数据分配作为上海市旅游入境疫情前全年数据日分配，2020-2024依照异常数据处理原则每年一分配"
   ],
   "metadata": {
    "collapsed": false
   },
   "id": "691897ae02658cd2"
  },
  {
   "cell_type": "code",
   "execution_count": null,
   "id": "initial_id",
   "metadata": {
    "collapsed": true
   },
   "outputs": [],
   "source": [
    "from enum import Enum\n",
    "from sqlalchemy import create_engine\n",
    "import pandas as pd\n",
    "import matplotlib.pyplot as plt\n",
    "import torch\n",
    "\n",
    "# 创建数据库引擎\n",
    "table_hk_imputed = \"hk_customs_imputed\"\n",
    "database_url = \"sqlite:///../data/data.sqlite\"\n",
    "engine = create_engine(database_url)\n",
    "\n",
    "# define hyper paras\n",
    "use_standard_scaler = True\n",
    "mode = 'predict'\n",
    "model_name = 'transformer'  # transformer,saits\n",
    "save_imputed_data = False\n",
    "device = torch.device(\"cuda:0\" if torch.cuda.is_available() else \"cpu\")\n",
    "saved_model = {\n",
    "    \"saits\": 'saits_hk_imputation_20240222235322.pypots',\n",
    "    \"transformer\": \"transformer_hk_imputation_20240303162108.pypots\"\n",
    "}\n"
   ]
  }
 ],
 "metadata": {
  "kernelspec": {
   "display_name": "Python 3",
   "language": "python",
   "name": "python3"
  },
  "language_info": {
   "codemirror_mode": {
    "name": "ipython",
    "version": 2
   },
   "file_extension": ".py",
   "mimetype": "text/x-python",
   "name": "python",
   "nbconvert_exporter": "python",
   "pygments_lexer": "ipython2",
   "version": "2.7.6"
  }
 },
 "nbformat": 4,
 "nbformat_minor": 5
}
