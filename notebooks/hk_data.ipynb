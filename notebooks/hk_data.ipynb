{
 "cells": [
  {
   "cell_type": "code",
   "outputs": [],
   "source": [
    "%pip install pandas matplotlib mysqlclient sqlalchemy"
   ],
   "metadata": {
    "collapsed": false,
    "is_executing": true
   },
   "id": "8e98a66cd6b5b865"
  },
  {
   "cell_type": "code",
   "execution_count": null,
   "id": "initial_id",
   "metadata": {
    "collapsed": true
   },
   "outputs": [],
   "source": [
    "from sqlalchemy import create_engine\n",
    "import pandas as pd\n",
    "import matplotlib.pyplot as plt\n",
    "\n",
    "# 替换以下字符串为你的数据库连接信息\n",
    "# 格式：'mysql+pymysql://用户名:密码@主机名:端口/数据库名'\n",
    "HOST = \"gateway01.us-west-2.prod.aws.tidbcloud.com\"\n",
    "PORT = 4000\n",
    "USR = \"4JHciBfpftZR67E.root\"\n",
    "PWD = \"aidBsAjcm2YUaFac\"\n",
    "DB = \"data\"\n",
    "TABLE = \"hk_data_pg\"\n",
    "database_url = f\"mysql+mysqldb://{USR}:{PWD}@{HOST}:{PORT}/{DB}\"\n",
    "\n",
    "# 创建数据库引擎\n",
    "engine = create_engine(database_url)"
   ]
  },
  {
   "cell_type": "code",
   "outputs": [],
   "source": [
    "query = f'SELECT * FROM {TABLE} WHERE YEAR(日期) = 2023;'\n",
    "df = pd.read_sql_query(query, engine)"
   ],
   "metadata": {
    "collapsed": false
   },
   "id": "866ad4d4b81c9c94",
   "execution_count": null
  },
  {
   "cell_type": "code",
   "outputs": [],
   "source": [
    "from matplotlib import font_manager\n",
    "# fname中选择一个你本机查询出来的字体 若没有中文字体则需要你本人手动安装\n",
    "font = font_manager.FontProperties(fname=\"/usr/share/fonts/opentype/noto/NotoSansCJK-Regular.ttc\")\n",
    "plt.rcParams['axes.unicode_minus'] = False  # 解决保存图像时负号'-'显示为方块的问题"
   ],
   "metadata": {
    "collapsed": false
   },
   "id": "4d7d019ab4623792",
   "execution_count": null
  },
  {
   "cell_type": "code",
   "outputs": [],
   "source": [
    "# 假设'date'列是日期，其他列是需要绘制的数据\n",
    "df['日期'] = pd.to_datetime(df['日期'])\n",
    "\n",
    "# 设置图形大小\n",
    "plt.figure(figsize=(10, 6))\n",
    "\n",
    "# 遍历所有列（除了'date'列），绘制每一列的数据\n",
    "for column in df.columns:\n",
    "    if column != '日期':\n",
    "        plt.plot(df['日期'], df[column], label=column)\n",
    "\n",
    "plt.legend()\n",
    "plt.xlabel('Date')\n",
    "plt.ylabel('Value')\n",
    "plt.title('Data Visualization')\n",
    "plt.show()"
   ],
   "metadata": {
    "collapsed": false
   },
   "id": "95739c918d1501a7",
   "execution_count": null
  }
 ],
 "metadata": {
  "kernelspec": {
   "display_name": "Python 3",
   "language": "python",
   "name": "python3"
  },
  "language_info": {
   "codemirror_mode": {
    "name": "ipython",
    "version": 2
   },
   "file_extension": ".py",
   "mimetype": "text/x-python",
   "name": "python",
   "nbconvert_exporter": "python",
   "pygments_lexer": "ipython2",
   "version": "2.7.6"
  }
 },
 "nbformat": 4,
 "nbformat_minor": 5
}
