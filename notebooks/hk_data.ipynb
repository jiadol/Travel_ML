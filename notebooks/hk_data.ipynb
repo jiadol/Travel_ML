{
 "cells": [
  {
   "cell_type": "code",
   "outputs": [
    {
     "name": "stdout",
     "output_type": "stream",
     "text": [
      "Requirement already satisfied: pandas in d:\\miniconda3\\lib\\site-packages (2.2.0)\n",
      "Requirement already satisfied: matplotlib in d:\\miniconda3\\lib\\site-packages (3.8.3)\n",
      "Requirement already satisfied: mysqlclient in d:\\miniconda3\\lib\\site-packages (2.2.4)\n",
      "Requirement already satisfied: sqlalchemy in d:\\miniconda3\\lib\\site-packages (2.0.27)\n",
      "Requirement already satisfied: numpy<2,>=1.23.2 in d:\\miniconda3\\lib\\site-packages (from pandas) (1.26.4)\n",
      "Requirement already satisfied: python-dateutil>=2.8.2 in d:\\miniconda3\\lib\\site-packages (from pandas) (2.8.2)\n",
      "Requirement already satisfied: pytz>=2020.1 in d:\\miniconda3\\lib\\site-packages (from pandas) (2024.1)\n",
      "Requirement already satisfied: tzdata>=2022.7 in d:\\miniconda3\\lib\\site-packages (from pandas) (2024.1)\n",
      "Requirement already satisfied: contourpy>=1.0.1 in d:\\miniconda3\\lib\\site-packages (from matplotlib) (1.2.0)\n",
      "Requirement already satisfied: cycler>=0.10 in d:\\miniconda3\\lib\\site-packages (from matplotlib) (0.12.1)\n",
      "Requirement already satisfied: fonttools>=4.22.0 in d:\\miniconda3\\lib\\site-packages (from matplotlib) (4.49.0)\n",
      "Requirement already satisfied: kiwisolver>=1.3.1 in d:\\miniconda3\\lib\\site-packages (from matplotlib) (1.4.5)\n",
      "Requirement already satisfied: packaging>=20.0 in d:\\miniconda3\\lib\\site-packages (from matplotlib) (23.1)\n",
      "Requirement already satisfied: pillow>=8 in d:\\miniconda3\\lib\\site-packages (from matplotlib) (10.2.0)\n",
      "Requirement already satisfied: pyparsing>=2.3.1 in d:\\miniconda3\\lib\\site-packages (from matplotlib) (3.1.1)\n",
      "Requirement already satisfied: typing-extensions>=4.6.0 in d:\\miniconda3\\lib\\site-packages (from sqlalchemy) (4.9.0)\n",
      "Requirement already satisfied: greenlet!=0.4.17 in d:\\miniconda3\\lib\\site-packages (from sqlalchemy) (3.0.3)\n",
      "Requirement already satisfied: six>=1.5 in d:\\miniconda3\\lib\\site-packages (from python-dateutil>=2.8.2->pandas) (1.16.0)\n",
      "Note: you may need to restart the kernel to use updated packages.\n"
     ]
    }
   ],
   "source": [
    "%pip install pandas matplotlib mysqlclient sqlalchemy"
   ],
   "metadata": {
    "collapsed": false,
    "ExecuteTime": {
     "end_time": "2024-02-20T07:40:59.920092300Z",
     "start_time": "2024-02-20T07:40:57.975814600Z"
    }
   },
   "id": "8e98a66cd6b5b865",
   "execution_count": 1
  },
  {
   "cell_type": "code",
   "execution_count": null,
   "id": "initial_id",
   "metadata": {
    "collapsed": true
   },
   "outputs": [],
   "source": [
    "from sqlalchemy import create_engine\n",
    "import pandas as pd\n",
    "import matplotlib.pyplot as plt\n",
    "\n",
    "# 替换以下字符串为你的数据库连接信息\n",
    "# 格式：'mysql+pymysql://用户名:密码@主机名:端口/数据库名'\n",
    "# HOST = \"gateway01.us-west-2.prod.aws.tidbcloud.com\"\n",
    "# PORT = 4000\n",
    "# USR = \"4JHciBfpftZR67E.root\"\n",
    "# PWD = \"aidBsAjcm2YUaFac\"\n",
    "# DB = \"data\"\n",
    "# TABLE = \"hk_data_pg\"\n",
    "# database_url = f\"mysql+mysqldb://{USR}:{PWD}@{HOST}:{PORT}/{DB}\"\n",
    "database_url = 'sqlite:///../data/data.sqlite'\n",
    "\n",
    "# 创建数据库引擎\n",
    "engine = create_engine(database_url)"
   ]
  },
  {
   "cell_type": "code",
   "outputs": [],
   "source": [
    "query = f'SELECT * FROM {TABLE} WHERE YEAR(日期) = 2023;'\n",
    "df = pd.read_sql_query(query, engine)"
   ],
   "metadata": {
    "collapsed": false
   },
   "id": "866ad4d4b81c9c94",
   "execution_count": null
  },
  {
   "cell_type": "code",
   "outputs": [],
   "source": [
    "from matplotlib import font_manager\n",
    "# fname中选择一个你本机查询出来的字体 若没有中文字体则需要你本人手动安装\n",
    "font = font_manager.FontProperties(fname=\"/usr/share/fonts/opentype/noto/NotoSansCJK-Regular.ttc\")\n",
    "plt.rcParams['axes.unicode_minus'] = False  # 解决保存图像时负号'-'显示为方块的问题"
   ],
   "metadata": {
    "collapsed": false
   },
   "id": "4d7d019ab4623792",
   "execution_count": null
  },
  {
   "cell_type": "code",
   "outputs": [],
   "source": [
    "# 假设'date'列是日期，其他列是需要绘制的数据\n",
    "df['日期'] = pd.to_datetime(df['日期'])\n",
    "\n",
    "# 设置图形大小\n",
    "plt.figure(figsize=(10, 6))\n",
    "\n",
    "# 遍历所有列（除了'date'列），绘制每一列的数据\n",
    "for column in df.columns:\n",
    "    if column != '日期':\n",
    "        plt.plot(df['日期'], df[column], label=column)\n",
    "\n",
    "plt.legend()\n",
    "plt.xlabel('Date')\n",
    "plt.ylabel('Value')\n",
    "plt.title('Data Visualization')\n",
    "plt.show()"
   ],
   "metadata": {
    "collapsed": false
   },
   "id": "95739c918d1501a7",
   "execution_count": null
  }
 ],
 "metadata": {
  "kernelspec": {
   "display_name": "Python 3",
   "language": "python",
   "name": "python3"
  },
  "language_info": {
   "codemirror_mode": {
    "name": "ipython",
    "version": 2
   },
   "file_extension": ".py",
   "mimetype": "text/x-python",
   "name": "python",
   "nbconvert_exporter": "python",
   "pygments_lexer": "ipython2",
   "version": "2.7.6"
  }
 },
 "nbformat": 4,
 "nbformat_minor": 5
}
