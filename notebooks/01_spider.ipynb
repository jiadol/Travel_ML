{
 "cells": [
  {
   "cell_type": "code",
   "execution_count": 1,
   "id": "initial_id",
   "metadata": {
    "collapsed": true,
    "ExecuteTime": {
     "end_time": "2024-03-05T07:26:54.679093Z",
     "start_time": "2024-03-05T07:26:54.604405Z"
    }
   },
   "outputs": [
    {
     "data": {
      "text/plain": "['https://tjj.sh.gov.cn/ydsj56/index.html',\n 'https://tjj.sh.gov.cn/ydsj56/index_1.html',\n 'https://tjj.sh.gov.cn/ydsj56/index_2.html',\n 'https://tjj.sh.gov.cn/ydsj56/index_3.html',\n 'https://tjj.sh.gov.cn/ydsj56/index_4.html',\n 'https://tjj.sh.gov.cn/ydsj56/index_5.html',\n 'https://tjj.sh.gov.cn/ydsj56/index_6.html',\n 'https://tjj.sh.gov.cn/ydsj56/index_7.html',\n 'https://tjj.sh.gov.cn/ydsj56/index_8.html']"
     },
     "execution_count": 1,
     "metadata": {},
     "output_type": "execute_result"
    }
   ],
   "source": [
    "import random\n",
    "\n",
    "import requests\n",
    "from bs4 import BeautifulSoup\n",
    "\n",
    "# 替换这里的URL为你想提取链接的网页地址\n",
    "url_template = ''\n",
    "urls = [\n",
    "    'https://tjj.sh.gov.cn/ydsj56/index.html'\n",
    "]\n",
    "for i in range(1,9):\n",
    "    urls.append(f'https://tjj.sh.gov.cn/ydsj56/index_{i}.html')\n",
    "\n",
    "\n",
    "urls"
   ]
  },
  {
   "cell_type": "code",
   "outputs": [
    {
     "data": {
      "text/plain": "  0%|          | 0/9 [00:00<?, ?it/s]",
      "application/vnd.jupyter.widget-view+json": {
       "version_major": 2,
       "version_minor": 0,
       "model_id": "c97cd80aafa64c0aa542301ce541319a"
      }
     },
     "metadata": {},
     "output_type": "display_data"
    },
    {
     "name": "stdout",
     "output_type": "stream",
     "text": [
      "Sleeping for 2.00 seconds...\n",
      "Sleeping for 2.00 seconds...\n",
      "Sleeping for 1.00 seconds...\n",
      "Sleeping for 2.00 seconds...\n",
      "Sleeping for 2.00 seconds...\n",
      "Sleeping for 2.00 seconds...\n",
      "Sleeping for 1.00 seconds...\n",
      "Sleeping for 2.00 seconds...\n",
      "Sleeping for 1.00 seconds...\n"
     ]
    }
   ],
   "source": [
    "import time\n",
    "from random import randint\n",
    "from tqdm.notebook import tqdm\n",
    "\n",
    "# 设置请求头，模仿浏览器行为\n",
    "headers = {\n",
    "    'User-Agent': 'Mozilla/5.0 (Windows NT 10.0; Win64; x64) AppleWebKit/537.36 (KHTML, like Gecko) Chrome/58.0.3029.110 Safari/537.3'\n",
    "}\n",
    "\n",
    "links = []\n",
    "# 发送HTTP请求获取网页内容，这次加入了headers参数\n",
    "for url in tqdm(urls):\n",
    "    response = requests.get(url, headers=headers)\n",
    "    \n",
    "    # 为了正确处理网页中的中文，需要获取网页的真实编码然后据此解码\n",
    "    response.encoding = response.apparent_encoding\n",
    "    \n",
    "    # 使用BeautifulSoup解析网页内容\n",
    "    soup = BeautifulSoup(response.text, 'html.parser')\n",
    "    \n",
    "    # 查找第一个ul标签\n",
    "    ul_tag = soup.find('ul')\n",
    "    if ul_tag:\n",
    "        # 在这个ul标签内查找所有的li标签\n",
    "        li_tags = ul_tag.find_all('li')\n",
    "        for li in li_tags:\n",
    "            a_tag = li.find('a')\n",
    "            if a_tag and 'href' in a_tag.attrs:\n",
    "                links.append(a_tag['href'])\n",
    "    \n",
    "    sleep_time = randint(1, 3)\n",
    "    print(f\"Sleeping for {sleep_time:.2f} seconds...\")\n",
    "    time.sleep(sleep_time)\n"
   ],
   "metadata": {
    "collapsed": false,
    "ExecuteTime": {
     "end_time": "2024-03-05T07:28:18.717534Z",
     "start_time": "2024-03-05T07:26:54.679925Z"
    }
   },
   "id": "ad6fad6befe21a83",
   "execution_count": 2
  },
  {
   "cell_type": "code",
   "outputs": [],
   "source": [
    "base_url = 'https://tjj.sh.gov.cn'\n",
    "full_links = [base_url+ link for link in links]"
   ],
   "metadata": {
    "collapsed": false,
    "ExecuteTime": {
     "end_time": "2024-03-05T07:28:18.722662Z",
     "start_time": "2024-03-05T07:28:18.719242Z"
    }
   },
   "id": "571fa0bb63933c9c",
   "execution_count": 3
  },
  {
   "cell_type": "code",
   "outputs": [
    {
     "data": {
      "text/plain": "['https://tjj.sh.gov.cn/ydsj56/20240227/6da1265d10594842a4243e4b37db2fd2.html',\n 'https://tjj.sh.gov.cn/ydsj56/20240122/e66b8eaff4734885bda49d5bb7d2b195.html',\n 'https://tjj.sh.gov.cn/ydsj56/20231219/d11f5c3cc5494d92a1810366f670c5fa.html',\n 'https://tjj.sh.gov.cn/ydsj56/20231116/0b214e319e3049b48d3792938796427e.html',\n 'https://tjj.sh.gov.cn/ydsj56/20231018/6eeaed71cfb348be81e208bd1b620fc4.html',\n 'https://tjj.sh.gov.cn/ydsj56/20230919/5f03aa1f236447d8b28ae823fcd0697f.html',\n 'https://tjj.sh.gov.cn/ydsj56/20230823/35cbdf96e8b04f7f8074ae8e5613afcb.html',\n 'https://tjj.sh.gov.cn/ydsj56/20230720/c6d9f96e77e24c28a93c279c85693285.html',\n 'https://tjj.sh.gov.cn/ydsj56/20230621/52ac5ead85e34ec58b09683ace0f9817.html',\n 'https://tjj.sh.gov.cn/ydsj56/20230519/af5b02ea15a844f9aaa5d632f9991f8f.html',\n 'https://tjj.sh.gov.cn/ydsj56/20230421/890055e09ecf4944a0cf3a7bb87e4560.html',\n 'https://tjj.sh.gov.cn/ydsj56/20230321/da29d6163d514f67bb19aa94c2c62c0c.html',\n 'https://tjj.sh.gov.cn/ydsj56/20230227/23e7c18e1b9943cbbcf35dcde9c72c3e.html',\n 'https://tjj.sh.gov.cn/ydsj56/20230129/25496b6806224d5492d0dfeeb935e082.html',\n 'https://tjj.sh.gov.cn/ydsj56/20221227/0c1b2ceec1024e0f8ef2cf4c40d8ce4c.html',\n 'https://tjj.sh.gov.cn/ydsj56/20221124/f68f7006a0c94bc29fc199dd7d71138c.html',\n 'https://tjj.sh.gov.cn/ydsj56/20221019/e67284e94d514b1d94bc9ecb090c39c8.html',\n 'https://tjj.sh.gov.cn/ydsj56/20220920/212a045a816143a38948f90f4c12fd88.html',\n 'https://tjj.sh.gov.cn/ydsj56/20220825/34fce936d4df438388e18502d9c5d13b.html',\n 'https://tjj.sh.gov.cn/ydsj56/20220722/69b124f44f864b55a7523ae5f443dcad.html',\n 'https://tjj.sh.gov.cn/ydsj56/20220224/8fea93c9cc8e44c8abfef165280f6f27.html',\n 'https://tjj.sh.gov.cn/ydsj56/20220121/f603570124594495b6d7d67d154b46c3.html',\n 'https://tjj.sh.gov.cn/ydsj56/20211224/15db36044ceb44ed99eb9dd243b6de75.html',\n 'https://tjj.sh.gov.cn/ydsj56/20211129/d152387a5814488aa9d1bbe5cbcd775e.html',\n 'https://tjj.sh.gov.cn/ydsj56/20211019/f5d17102266e48b59dba0b80dd2d7473.html',\n 'https://tjj.sh.gov.cn/ydsj56/20210918/d0f879b16fc848de9804f050cc01e446.html',\n 'https://tjj.sh.gov.cn/ydsj56/20210818/1ded47bc549e47b2ae01f9398f954ade.html',\n 'https://tjj.sh.gov.cn/ydsj56/20210720/5a4f9af3006d4d64b6bbe942cfd68895.html',\n 'https://tjj.sh.gov.cn/ydsj56/20210622/15f591cfaab14e5cb0fdecbc501ea837.html',\n 'https://tjj.sh.gov.cn/ydsj56/20210521/9d917ad970894220ab644fc8069347d4.html',\n 'https://tjj.sh.gov.cn/ydsj56/20210419/0b80226d1d854c0daace241878e3c056.html',\n 'https://tjj.sh.gov.cn/ydsj56/20210317/2d5976880c754a13a87fcab890558db0.html',\n 'https://tjj.sh.gov.cn/ydsj56/20210225/3590018d735b483281004b8c79ee2441.html',\n 'https://tjj.sh.gov.cn/ydsj56/20210119/cd25e4cdd34b49469cf6882b7c8d0521.html',\n 'https://tjj.sh.gov.cn/ydsj56/20201218/f47a8d74ba174211bc815263aab126eb.html',\n 'https://tjj.sh.gov.cn/ydsj56/20201118/c0db4191ba5b4f6e923834b0af750bb8.html',\n 'https://tjj.sh.gov.cn/ydsj56/20201021/8248c9f00f76471db6a17e539c78e29f.html',\n 'https://tjj.sh.gov.cn/ydsj56/20200921/ff6c23cbf9dc4977b4bf56f797adb7ef.html',\n 'https://tjj.sh.gov.cn/ydsj56/20200824/0047a0cc358447dc80c891d10bec9883.html',\n 'https://tjj.sh.gov.cn/ydsj56/20200717/e7b95fec560e49959d6b6b108e7e4c11.html',\n 'https://tjj.sh.gov.cn/ydsj56/20200706/2afede1e754c4021a94d348c52a61be4.html',\n 'https://tjj.sh.gov.cn/ydsj56/20200525/ec3190e4c33242f0bd564bd16aae0423.html',\n 'https://tjj.sh.gov.cn/ydsj56/20200430/854d492568c84e94a06fbd867cef69b1.html',\n 'https://tjj.sh.gov.cn/ydsj56/20200330/61cd59db14b944f4b3050d68039883c0.html',\n 'https://tjj.sh.gov.cn/ydsj56/20200329/be147beb57e049939cdbf04ee95ad4a1.html',\n 'https://tjj.sh.gov.cn/ydsj56/20200122/0014-1004419.html',\n 'https://tjj.sh.gov.cn/ydsj56/20191220/0014-1004236.html',\n 'https://tjj.sh.gov.cn/ydsj56/20191121/0014-1004156.html',\n 'https://tjj.sh.gov.cn/ydsj56/20191021/0014-1004025.html',\n 'https://tjj.sh.gov.cn/ydsj56/20190923/0014-1003935.html',\n 'https://tjj.sh.gov.cn/ydsj56/20190819/0014-1003825.html',\n 'https://tjj.sh.gov.cn/ydsj56/20190722/0014-1003691.html',\n 'https://tjj.sh.gov.cn/ydsj56/20190620/0014-1003595.html',\n 'https://tjj.sh.gov.cn/ydsj56/20190520/0014-1003491.html',\n 'https://tjj.sh.gov.cn/ydsj56/20190423/0014-1003383.html',\n 'https://tjj.sh.gov.cn/ydsj56/20190322/0014-1003288.html',\n 'https://tjj.sh.gov.cn/ydsj56/20190221/0014-1003207.html',\n 'https://tjj.sh.gov.cn/ydsj56/20190123/0014-1003045.html',\n 'https://tjj.sh.gov.cn/ydsj56/20181219/0014-1002884.html',\n 'https://tjj.sh.gov.cn/ydsj56/20181120/0014-1002771.html',\n 'https://tjj.sh.gov.cn/ydsj56/20181019/0014-1002666.html',\n 'https://tjj.sh.gov.cn/ydsj56/20180919/0014-1002579.html',\n 'https://tjj.sh.gov.cn/ydsj56/20180820/0014-1002411.html',\n 'https://tjj.sh.gov.cn/ydsj56/20180719/0014-1002297.html',\n 'https://tjj.sh.gov.cn/ydsj56/20180625/0014-1002201.html',\n 'https://tjj.sh.gov.cn/ydsj56/20180524/0014-1002056.html',\n 'https://tjj.sh.gov.cn/ydsj56/20180423/0014-1001876.html',\n 'https://tjj.sh.gov.cn/ydsj56/20180320/0014-1001725.html',\n 'https://tjj.sh.gov.cn/ydsj56/20180224/0014-1001638.html',\n 'https://tjj.sh.gov.cn/ydsj56/20180124/0014-1001525.html',\n 'https://tjj.sh.gov.cn/ydsj56/20171225/0014-1001375.html',\n 'https://tjj.sh.gov.cn/ydsj56/20171121/0014-1001243.html',\n 'https://tjj.sh.gov.cn/ydsj56/20171020/0014-1001124.html',\n 'https://tjj.sh.gov.cn/ydsj56/20170920/0014-1000975.html',\n 'https://tjj.sh.gov.cn/ydsj56/20170822/0014-1000842.html',\n 'https://tjj.sh.gov.cn/ydsj56/20170719/0014-1000618.html',\n 'https://tjj.sh.gov.cn/ydsj56/20170621/0014-1000481.html',\n 'https://tjj.sh.gov.cn/ydsj56/20170524/0014-295271.html',\n 'https://tjj.sh.gov.cn/ydsj56/20170418/0014-294605.html',\n 'https://tjj.sh.gov.cn/ydsj56/20170320/0014-294180.html',\n 'https://tjj.sh.gov.cn/ydsj56/20170220/0014-293670.html',\n 'https://tjj.sh.gov.cn/ydsj56/20170121/0014-293103.html',\n 'https://tjj.sh.gov.cn/ydsj56/20161219/0014-292325.html',\n 'https://tjj.sh.gov.cn/ydsj56/20161120/0014-291766.html',\n 'https://tjj.sh.gov.cn/ydsj56/20161019/0014-291193.html',\n 'https://tjj.sh.gov.cn/ydsj56/20160921/0014-290817.html',\n 'https://tjj.sh.gov.cn/ydsj56/20160822/0014-290399.html',\n 'https://tjj.sh.gov.cn/ydsj56/20160727/0014-289964.html',\n 'https://tjj.sh.gov.cn/ydsj56/20160620/0014-289200.html',\n 'https://tjj.sh.gov.cn/ydsj56/20160522/0014-288689.html',\n 'https://tjj.sh.gov.cn/ydsj56/20160419/0014-288130.html',\n 'https://tjj.sh.gov.cn/ydsj56/20160320/0014-287700.html',\n 'https://tjj.sh.gov.cn/ydsj56/20160222/0014-287203.html',\n 'https://tjj.sh.gov.cn/ydsj56/20160120/0014-286621.html',\n 'https://tjj.sh.gov.cn/ydsj56/20151220/0014-285942.html',\n 'https://tjj.sh.gov.cn/ydsj56/20151122/0014-284936.html',\n 'https://tjj.sh.gov.cn/ydsj56/20151019/0014-283967.html',\n 'https://tjj.sh.gov.cn/ydsj56/20150920/0014-283260.html',\n 'https://tjj.sh.gov.cn/ydsj56/20150819/0014-282139.html',\n 'https://tjj.sh.gov.cn/ydsj56/20150722/0014-281480.html',\n 'https://tjj.sh.gov.cn/ydsj56/20150616/0014-279992.html',\n 'https://tjj.sh.gov.cn/ydsj56/20150520/0014-279214.html',\n 'https://tjj.sh.gov.cn/ydsj56/20150419/0014-278385.html',\n 'https://tjj.sh.gov.cn/ydsj56/20150318/0014-277747.html',\n 'https://tjj.sh.gov.cn/ydsj56/20150215/0014-277224.html',\n 'https://tjj.sh.gov.cn/ydsj56/20150122/0014-276589.html',\n 'https://tjj.sh.gov.cn/ydsj56/20141221/0014-275727.html',\n 'https://tjj.sh.gov.cn/ydsj56/20141119/0014-275037.html',\n 'https://tjj.sh.gov.cn/ydsj56/20141016/0014-274286.html',\n 'https://tjj.sh.gov.cn/ydsj56/20140921/0014-273739.html',\n 'https://tjj.sh.gov.cn/ydsj56/20140819/0014-272962.html',\n 'https://tjj.sh.gov.cn/ydsj56/20140717/0014-271726.html',\n 'https://tjj.sh.gov.cn/ydsj56/20140619/0014-271010.html',\n 'https://tjj.sh.gov.cn/ydsj56/20140519/0014-269959.html',\n 'https://tjj.sh.gov.cn/ydsj56/20140420/0014-269130.html',\n 'https://tjj.sh.gov.cn/ydsj56/20140319/0014-268205.html',\n 'https://tjj.sh.gov.cn/ydsj56/20140219/0014-267172.html',\n 'https://tjj.sh.gov.cn/ydsj56/20140126/0014-266461.html',\n 'https://tjj.sh.gov.cn/ydsj56/20131222/0014-264956.html',\n 'https://tjj.sh.gov.cn/ydsj56/20131119/0014-264139.html',\n 'https://tjj.sh.gov.cn/ydsj56/20131020/0014-262736.html',\n 'https://tjj.sh.gov.cn/ydsj56/20130921/0014-261772.html',\n 'https://tjj.sh.gov.cn/ydsj56/20130819/0014-260666.html',\n 'https://tjj.sh.gov.cn/ydsj56/20130722/0014-259388.html',\n 'https://tjj.sh.gov.cn/ydsj56/20130619/0014-258145.html',\n 'https://tjj.sh.gov.cn/ydsj56/20130519/0014-256864.html',\n 'https://tjj.sh.gov.cn/ydsj56/20130421/0014-255693.html',\n 'https://tjj.sh.gov.cn/ydsj56/20130319/0014-254160.html',\n 'https://tjj.sh.gov.cn/ydsj56/20130224/0014-253134.html',\n 'https://tjj.sh.gov.cn/ydsj56/20130121/0014-251794.html',\n 'https://tjj.sh.gov.cn/ydsj56/20121219/0014-250713.html',\n 'https://tjj.sh.gov.cn/ydsj56/20121119/0014-250711.html',\n 'https://tjj.sh.gov.cn/ydsj56/20121021/0014-248397.html',\n 'https://tjj.sh.gov.cn/ydsj56/20120919/0014-247335.html',\n 'https://tjj.sh.gov.cn/ydsj56/20120819/0014-246227.html',\n 'https://tjj.sh.gov.cn/ydsj56/20120722/0014-245242.html',\n 'https://tjj.sh.gov.cn/ydsj56/20120619/0014-244198.html',\n 'https://tjj.sh.gov.cn/ydsj56/20120520/0014-243020.html',\n 'https://tjj.sh.gov.cn/ydsj56/20120419/0014-241997.html',\n 'https://tjj.sh.gov.cn/ydsj56/20120328/0014-240957.html',\n 'https://tjj.sh.gov.cn/ydsj56/20120219/0014-239243.html',\n 'https://tjj.sh.gov.cn/ydsj56/20111219/0014-235159.html',\n 'https://tjj.sh.gov.cn/ydsj56/20111106/0014-235160.html',\n 'https://tjj.sh.gov.cn/ydsj56/20111106/0014-235158.html',\n 'https://tjj.sh.gov.cn/ydsj56/20111010/0014-235161.html',\n 'https://tjj.sh.gov.cn/ydsj56/20110906/0014-235162.html',\n 'https://tjj.sh.gov.cn/ydsj56/20110809/0014-235163.html',\n 'https://tjj.sh.gov.cn/ydsj56/20110712/0014-235164.html',\n 'https://tjj.sh.gov.cn/ydsj56/20110606/0014-235165.html',\n 'https://tjj.sh.gov.cn/ydsj56/20110508/0014-235166.html',\n 'https://tjj.sh.gov.cn/ydsj56/20110406/0014-235167.html',\n 'https://tjj.sh.gov.cn/ydsj56/20110307/0014-235168.html',\n 'https://tjj.sh.gov.cn/ydsj56/20110206/0014-235169.html']"
     },
     "execution_count": 4,
     "metadata": {},
     "output_type": "execute_result"
    }
   ],
   "source": [
    "full_links"
   ],
   "metadata": {
    "collapsed": false,
    "ExecuteTime": {
     "end_time": "2024-03-05T07:28:18.730310Z",
     "start_time": "2024-03-05T07:28:18.725933Z"
    }
   },
   "id": "5affa1bf190ed19f",
   "execution_count": 4
  },
  {
   "cell_type": "code",
   "outputs": [],
   "source": [
    "import pandas as pd\n",
    "data = pd.DataFrame(columns=['sum_entry', 'global_entry', 'hkmo_entry', 'tw_entry'])"
   ],
   "metadata": {
    "collapsed": false,
    "ExecuteTime": {
     "end_time": "2024-03-05T07:28:18.990503Z",
     "start_time": "2024-03-05T07:28:18.731303Z"
    }
   },
   "id": "84d2d5854010f366",
   "execution_count": 5
  },
  {
   "cell_type": "code",
   "outputs": [
    {
     "data": {
      "text/plain": "  0%|          | 0/129 [00:00<?, ?it/s]",
      "application/vnd.jupyter.widget-view+json": {
       "version_major": 2,
       "version_minor": 0,
       "model_id": "c55d1112f83243d483c7592df389e2ba"
      }
     },
     "metadata": {},
     "output_type": "display_data"
    },
    {
     "name": "stdout",
     "output_type": "stream",
     "text": [
      "time:2021-09-01,data:[75000, 41600, 12800, 20600]\n",
      "time:2021-08-01,data:[76100, 43099, 12100, 20900]\n",
      "time:2021-07-01,data:[112400, 60100, 23900, 28400]\n",
      "time:2021-06-01,data:[96500, 52699, 19700, 24100]\n",
      "time:2021-05-01,data:[101500, 54900, 20700, 25900]\n",
      "time:2021-04-01,data:[98100, 54900, 19100, 24100]\n",
      "time:2021-03-01,data:[91300, 48600, 16000, 26700]\n",
      "time:2021-02-01,data:[58200, 35200, 7900, 15100]\n",
      "time:2021-01-01,data:[68600, 39300, 11299, 18000]\n",
      "time:2020-12-01,data:[90300, 54700, 15100, 20500]\n",
      "time:2020-11-01,data:[88900, 51800, 15000, 22100]\n",
      "time:2020-10-01,data:[100900, 56600, 16600, 27700]\n",
      "time:2020-09-01,data:[92600, 51100, 14700, 26800]\n",
      "time:2020-08-01,data:[89500, 47800, 14200, 27500]\n",
      "time:2020-07-01,data:[68600, 37300, 10200, 21100]\n",
      "time:2020-06-01,data:[53099, 30099, 6500, 16500]\n",
      "time:2020-06-01,data:[46900, 24900, 5800, 16200]\n",
      "time:2020-04-01,data:[17000, 8600, 2100, 6300]\n",
      "time:2020-03-01,data:[66000, 42000, 3800, 20200]\n",
      "time:2020-02-01,data:[82500, 48099, 6200, 28200]\n",
      "time:2020-02-01,data:[489799, 377100, 43000, 69700]\n",
      "time:2019-12-01,data:[730000, 568100, 67500, 94400]\n",
      "time:2019-11-01,data:[844800, 669400, 67000, 108400]\n",
      "time:2019-10-01,data:[870200, 681800, 68400, 120000]\n",
      "time:2019-09-01,data:[771200, 616600, 56600, 98000]\n",
      "time:2019-08-01,data:[710300, 540300, 60400, 109600]\n",
      "time:2019-07-01,data:[706500, 516400, 73300, 116800]\n",
      "time:2019-06-01,data:[749000, 569900, 67800, 111300]\n",
      "请求超时，尝试次数 1/3\n",
      "time:2019-05-01,data:[777200, 602800, 65000, 109400]\n",
      "time:2019-04-01,data:[826700, 640800, 78300, 107600]\n",
      "time:2019-03-01,data:[825100, 648199, 64900, 112000]\n",
      "time:2019-02-01,data:[551700, 391400, 47699, 112600]\n",
      "time:2019-01-01,data:[609500, 475500, 51800, 82200]\n",
      "time:2018-12-01,data:[713700, 537000, 73200, 103500]\n",
      "time:2018-11-01,data:[847200, 664000, 70800, 112400]\n",
      "time:2018-10-01,data:[874599, 682700, 70800, 121100]\n",
      "time:2018-09-01,data:[783000, 619900, 60300, 102800]\n",
      "time:2018-08-01,data:[715900, 536000, 61400, 118500]\n",
      "time:2018-07-01,data:[715100, 524500, 67900, 122700]\n",
      "time:2018-06-01,data:[731400, 556600, 65000, 109800]\n",
      "time:2018-05-01,data:[804400, 623400, 64600, 116400]\n",
      "time:2018-04-01,data:[820200, 639400, 65900, 114900]\n",
      "time:2018-03-01,data:[823700, 646100, 70800, 106800]\n",
      "warning, no p found\n",
      "time:2018-02-01,data:['']\n",
      "time:2018-01-01,data:[637400, 494200, 50900, 92300]\n",
      "time:2017-12-01,data:[714100, 538900, 73800, 101400]\n",
      "time:2017-11-01,data:[801200, 621800, 68900, 110500]\n",
      "time:2017-10-01,data:[823700, 640900, 66700, 116100]\n",
      "time:2017-09-01,data:[761800, 608100, 56800, 96900]\n",
      "time:2017-08-01,data:[715400, 539900, 58600, 116900]\n",
      "time:2017-07-01,data:[698199, 519700, 61600, 116900]\n",
      "time:2017-06-01,data:[717800, 548400, 59100, 110300]\n",
      "time:2017-05-01,data:[771900, 596400, 61800, 113699]\n",
      "time:2017-04-01,data:[804200, 620100, 75400, 108699]\n",
      "time:2017-03-01,data:[787000, 625000, 59900, 102100]\n",
      "请求超时，尝试次数 1/3\n",
      "time:2017-02-01,data:[571800, 421400, 41800, 108600]\n",
      "time:2017-01-01,data:[562900, 431599, 51800, 79500]\n",
      "请求超时，尝试次数 1/3\n",
      "time:2016-12-01,data:[686900, 524800, 64700, 97400]\n",
      "time:2016-11-01,data:[760900, 593600, 62300, 105000]\n",
      "time:2016-10-01,data:[845500, 662300, 66500, 116700]\n",
      "time:2016-09-01,data:[740300, 584200, 55500, 100600]\n",
      "time:2016-08-01,data:[718500, 549600, 57400, 111500]\n",
      "time:2016-07-01,data:[700300, 528900, 59800, 111600]\n",
      "time:2016-06-01,data:[692500, 531100, 57900, 103500]\n",
      "time:2016-05-01,data:[761000, 591100, 61400, 108500]\n",
      "time:2016-04-01,data:[772600, 607300, 60199, 105100]\n",
      "time:2016-03-01,data:[755600, 596100, 65600, 93900]\n",
      "time:2016-02-01,data:[506100, 359000, 45100, 102000]\n",
      "time:2016-01-01,data:[603400, 470400, 48900, 84100]\n",
      "time:2015-12-01,data:[632700, 484900, 58900, 88900]\n",
      "time:2015-11-01,data:[733000, 568600, 61900, 102500]\n",
      "time:2015-10-01,data:[765200, 593600, 63300, 108300]\n",
      "time:2015-09-01,data:[678199, 533900, 53300, 91000]\n",
      "time:2015-08-01,data:[632500, 477299, 52900, 102300]\n",
      "time:2015-07-01,data:[630500, 469300, 56100, 105100]\n",
      "time:2015-06-01,data:[649100, 492400, 56300, 100399]\n",
      "请求过程中发生错误：HTTPSConnectionPool(host='tjj.sh.gov.cn', port=443): Max retries exceeded with url: /ydsj56/20150616/0014-279992.html (Caused by SSLError(SSLEOFError(8, '[SSL: UNEXPECTED_EOF_WHILE_READING] EOF occurred in violation of protocol (_ssl.c:1002)')))\n",
      "time:2015-05-01,data:[736000, 567600, 59900, 108500]\n",
      "time:2015-04-01,data:[757000, 587700, 66800, 102500]\n",
      "time:2015-03-01,data:[758500, 593300, 57699, 107500]\n",
      "time:2015-02-01,data:[442200, 322400, 43099, 76700]\n",
      "time:2015-01-01,data:[586500, 455500, 45000, 86000]\n",
      "time:2014-12-01,data:[591300, 449200, 53800, 88300]\n",
      "time:2014-11-01,data:[727600, 570700, 62699, 94200]\n",
      "time:2014-10-01,data:[752800, 580800, 65400, 106600]\n",
      "time:2014-09-01,data:[676400, 530800, 54500, 91100]\n",
      "time:2014-08-01,data:[612200, 463800, 50900, 97500]\n",
      "time:2014-07-01,data:[625700, 470700, 54600, 100399]\n",
      "time:2014-06-01,data:[654300, 503500, 54700, 96100]\n",
      "time:2014-05-01,data:[700000, 541100, 58500, 100399]\n",
      "warning, no p found\n",
      "warning, no p found\n",
      "warning, no p found\n",
      "warning, no p found\n",
      "time:2014-04-01,data:['', '', '', '']\n",
      "time:2014-03-01,data:[737900, 590000, 61300, 86600]\n",
      "time:2014-02-01,data:[562300, 413300, 42699, 106300]\n",
      "time:2014-01-01,data:[520300, 410800, 44900, 64600]\n",
      "请求超时，尝试次数 1/3\n",
      "time:2013-12-01,data:[584500, 452900, 49000, 82600]\n",
      "time:2013-11-01,data:[697900, 545200, 62100, 90600]\n",
      "time:2013-10-01,data:[754900, 596100, 63099, 95700]\n",
      "time:2013-09-01,data:[666200, 533400, 51400, 81400]\n",
      "time:2013-08-01,data:[608800, 474400, 46800, 87600]\n",
      "time:2013-07-01,data:[615200, 472600, 51900, 90700]\n",
      "time:2013-06-01,data:[606200, 481800, 45400, 79000]\n",
      "time:2013-05-01,data:[609600, 490000, 42900, 76700]\n",
      "time:2013-04-01,data:[669599, 546200, 44500, 78900]\n",
      "time:2013-03-01,data:[702300, 563800, 58000, 80500]\n",
      "time:2013-02-01,data:[496400, 370100, 39900, 86400]\n",
      "time:2013-01-01,data:[562500, 449600, 43400, 69500]\n",
      "time:2012-12-01,data:[564300, 437600, 49700, 77000]\n",
      "time:2012-11-01,data:[682500, 537700, 58400, 86400]\n",
      "time:2012-10-01,data:[717800, 563700, 59500, 94600]\n",
      "time:2012-09-01,data:[673000, 538700, 53200, 81100]\n",
      "time:2012-08-01,data:[653700, 515100, 47400, 91199]\n",
      "time:2012-07-01,data:[658600, 509900, 51800, 96900]\n",
      "time:2012-06-01,data:[60000, 683100, 543000, 53099]\n",
      "time:2012-05-01,data:[710100, 569200, 53000, 87899]\n",
      "time:2012-04-01,data:[750300, 597500, 61300, 91500]\n",
      "time:2012-03-01,data:[730200, 596500, 55599, 78100]\n",
      "time:2012-02-01,data:[614500, 488300, 42000, 84200]\n",
      "time:2012-01-01,data:[565900, 433000, 48200, 84700]\n",
      "time:2011-11-01,data:[749500, 604200, 59100, 86199]\n",
      "time:2011-10-01,data:[777400, 622700, 61600, 93100]\n",
      "warning, no p found\n",
      "warning, no p found\n",
      "warning, no p found\n",
      "warning, no p found\n",
      "time:2011-10-01,data:['', '', '', '']\n",
      "time:2011-09-01,data:[743900, 601500, 55300, 87100]\n",
      "time:2011-08-01,data:[697400, 547100, 55000, 95300]\n",
      "time:2011-07-01,data:[694100, 538900, 57600, 97600]\n",
      "time:2011-06-01,data:[692400, 549800, 56300, 86300]\n",
      "time:2011-05-01,data:[706500, 559400, 56600, 90500]\n",
      "time:2011-04-01,data:[706300, 551900, 65400, 89000]\n",
      "time:2011-03-01,data:[683400, 548100, 56900, 78400]\n",
      "time:2011-02-01,data:[572700, 432800, 45700, 94200]\n",
      "time:2011-01-01,data:[541600, 440000, 42500, 59100]\n"
     ]
    }
   ],
   "source": [
    "from datetime import datetime, timedelta, date\n",
    "import pandas as pd\n",
    "import random\n",
    "from tqdm.notebook import tqdm\n",
    "\n",
    "def clean_and_convert_to_int_mul(s,mul):\n",
    "    # 移除字符串中的特殊空格和其他非数字字符，保留小数点\n",
    "    cleaned = s.replace('\\xa0', '').strip()\n",
    "    # 将清理后的字符串转换为浮点数，然后转换为整数\n",
    "    try:\n",
    "        value = int(float(cleaned)*mul)\n",
    "    except ValueError:\n",
    "        # 如果转换失败，打印错误并返回None或者适当的默认值\n",
    "        print(f\"Cannot convert '{s}' to int.\")\n",
    "        value = None  # 或者根据需要返回默认值，比如0\n",
    "    return value\n",
    "\n",
    "def data_extractor(webpage:BeautifulSoup):\n",
    "    row_data = []\n",
    "    \n",
    "    tbody = webpage.find('tbody')\n",
    "    all_tr = tbody.find_all('tr')\n",
    "    table_in_td = None\n",
    "    for table in soup.find_all('table'):\n",
    "        if table.find_parent('tr'):\n",
    "            table_in_td = table\n",
    "            break\n",
    "    if table_in_td:\n",
    "        trs = table_in_td.find_all('tr')\n",
    "        if len(trs) == 6:\n",
    "            all_tr = table_in_td.find('tbody').find_all('tr')\n",
    "            for tr in all_tr[2:6]:\n",
    "                # 在每个tr中找到第二个td\n",
    "                td = tr.find_all('td')[1] if len(tr.find_all('td')) > 1 else None\n",
    "                # 从td中提取span内的数据\n",
    "                if td:\n",
    "                    p = td.find('p')\n",
    "                    if p:\n",
    "                        row_data.append(clean_and_convert_to_int_mul(p.text,10000))\n",
    "                    else:\n",
    "                        print(\"warning, no p found\")\n",
    "                        row_data.append('')\n",
    "            return row_data\n",
    "        all_tr = table_in_td.find('tbody').find_all('tr')\n",
    "        for tr in all_tr[1:5]:\n",
    "            # 在每个tr中找到第二个td\n",
    "            td = tr.find_all('td')[1] if len(tr.find_all('td')) > 1 else None\n",
    "            # 从td中提取span内的数据\n",
    "            if td:\n",
    "                p = td.find('p')\n",
    "                if p:\n",
    "                    row_data.append(clean_and_convert_to_int_mul(p.text,10000))\n",
    "                else:\n",
    "                    print(\"warning, no p found\")\n",
    "                    row_data.append('')\n",
    "        return row_data\n",
    "    elif len(all_tr) <= 6: # version 1\n",
    "        # 限制范围以防超出tr_tags的长度            \n",
    "        for tr in all_tr[1:5]:\n",
    "            # 在每个tr中找到第二个td\n",
    "            td = tr.find_all('td')[1] if len(tr.find_all('td')) > 1 else None\n",
    "            # 从td中提取span内的数据\n",
    "            if td:\n",
    "                span = td.find('span')\n",
    "                p = td.find('p')\n",
    "                if span:\n",
    "                    row_data.append(clean_and_convert_to_int_mul(span.text,10000))\n",
    "                elif p:\n",
    "                    row_data.append(clean_and_convert_to_int_mul(p.text,10000))\n",
    "                else:\n",
    "                    print(\"warning, no p found\")\n",
    "                    row_data.append('')\n",
    "        return row_data\n",
    "    #version3,4 tr中无表, version4处理器2020.10.1特殊情况\n",
    "    else:\n",
    "        ind = all_tr[0].find('td').find('p').text.strip()\n",
    "        start = 3\n",
    "        end =7\n",
    "        if ind == \"\":\n",
    "            start =2\n",
    "            end =6\n",
    "        for tr in all_tr[start:end]:\n",
    "            # 在每个tr中找到第二个td\n",
    "            td = tr.find_all('td')[1] if len(tr.find_all('td')) > 1 else None\n",
    "            # 从td中提取span内的数据\n",
    "            if td:\n",
    "                p = td.find('p')\n",
    "                if p:\n",
    "                    span = p.find('span')\n",
    "                    if span:\n",
    "                        row_data.append(clean_and_convert_to_int_mul(span.text,10000))\n",
    "                    else:\n",
    "                        row_data.append(clean_and_convert_to_int_mul(p.text,10000))\n",
    "                elif not td.find(): # no child\n",
    "                    row_data.append(clean_and_convert_to_int_mul(td.text,10000))\n",
    "                else:\n",
    "                    print(\"warning, no span found\")\n",
    "                    row_data.append('')\n",
    "        return row_data\n",
    "    \n",
    "\n",
    "# 初始化空的DataFrame和起始时间\n",
    "user_agents = [\n",
    "    'Mozilla/5.0 (Windows NT 10.0; Win64; x64) AppleWebKit/537.36 (KHTML, like Gecko) Chrome/58.0.3029.110 Safari/537.3',\n",
    "    'Mozilla/5.0 (Macintosh; Intel Mac OS X 10_15_7) AppleWebKit/605.1.15 (KHTML, like Gecko) Version/14.0.3 Safari/605.1.15',\n",
    "    'Mozilla/5.0 (X11; Linux x86_64) AppleWebKit/537.36 (KHTML, like Gecko) Chrome/88.0.4324.96 Safari/537.36',\n",
    "    # 更多用户代理字符串...\n",
    "]\n",
    "\n",
    "# 定义请求函数，包括重试逻辑\n",
    "def make_request_with_retry(url, max_retries=3):\n",
    "    retry_count = 0\n",
    "    while retry_count < max_retries:\n",
    "        # 随机选择一个用户代理\n",
    "        user_agent = random.choice(user_agents)\n",
    "        headers = {'User-Agent': user_agent}\n",
    "        \n",
    "        try:\n",
    "            response = requests.get(url, headers=headers)\n",
    "            # 检查响应代码，如果不是408，则返回响应\n",
    "            if response.status_code != 408:\n",
    "                return response\n",
    "            else:\n",
    "                print(f\"请求超时，尝试次数 {retry_count + 1}/{max_retries}\")\n",
    "        except requests.exceptions.RequestException as e:\n",
    "            print(f\"请求过程中发生错误：{e}\")\n",
    "        \n",
    "        retry_count += 1\n",
    "        time.sleep(1)  # 在重试之间稍微等待一段时间，可以根据需要调整\n",
    "    \n",
    "    return None  # 所有重试尝试后仍然失败\n",
    "\n",
    "skip = 1 #2021-10-01，2018-02-01，2014-04-01，2011-10-01\n",
    "current_position = data.shape[0]+skip\n",
    "\n",
    "# 多次爬取，为中途程序出错做打算\n",
    "for i in tqdm(range(current_position,len(full_links))):\n",
    "    response = make_request_with_retry(full_links[i], max_retries=3)\n",
    "    # 为了正确处理网页中的中文，需要获取网页的真实编码然后据此解码\n",
    "    response.encoding = response.apparent_encoding\n",
    "    \n",
    "    soup = BeautifulSoup(response.text, 'html.parser')\n",
    "    \n",
    "    row_data = data_extractor(soup)\n",
    "    ym = full_links[i].replace(\"https://\",\"\").split('/')[2]\n",
    "    ym = (datetime.strptime(ym, '%Y%m%d').replace(day=1) - timedelta(days=1)).replace(day=1)\n",
    "    ym = date(day=ym.day,month=ym.month,year=ym.year)\n",
    "    # 检查row_data长度，确保它包含4个元素\n",
    "    if len(row_data) == 4:\n",
    "        # 将这四个数据点作为一行添加到DataFrame中\n",
    "        data.loc[ym] = row_data\n",
    "        \n",
    "    # sleep_time = random.uniform(1,2)\n",
    "    # time.sleep(sleep_time)\n",
    "    print(f'time:{ym},data:{row_data}')"
   ],
   "metadata": {
    "collapsed": false,
    "ExecuteTime": {
     "end_time": "2024-03-05T07:51:17.365748Z",
     "start_time": "2024-03-05T07:30:26.655416Z"
    }
   },
   "id": "692400625f4d39b",
   "execution_count": 7
  },
  {
   "cell_type": "markdown",
   "source": [
    "# 爬取结束，手动补充缺失值"
   ],
   "metadata": {
    "collapsed": false
   },
   "id": "5e852b63cfaea2b9"
  },
  {
   "cell_type": "code",
   "outputs": [],
   "source": [
    "data_bak = data.copy()"
   ],
   "metadata": {
    "collapsed": false,
    "ExecuteTime": {
     "end_time": "2024-03-05T08:05:56.111665Z",
     "start_time": "2024-03-05T08:05:56.109541Z"
    }
   },
   "id": "4ca5a6405911dd8e",
   "execution_count": 17
  },
  {
   "cell_type": "code",
   "outputs": [
    {
     "name": "stderr",
     "output_type": "stream",
     "text": [
      "/var/folders/wb/86d7j5hx6lz71vnrk3q5ksmr0000gn/T/ipykernel_46924/43340782.py:2: SettingWithCopyWarning: \n",
      "A value is trying to be set on a copy of a slice from a DataFrame\n",
      "\n",
      "See the caveats in the documentation: https://pandas.pydata.org/pandas-docs/stable/user_guide/indexing.html#returning-a-view-versus-a-copy\n",
      "  data.loc[date(year=2021,month=10,day=1)]=[101100,54300,19600,27200]\n",
      "/var/folders/wb/86d7j5hx6lz71vnrk3q5ksmr0000gn/T/ipykernel_46924/43340782.py:3: SettingWithCopyWarning: \n",
      "A value is trying to be set on a copy of a slice from a DataFrame\n",
      "\n",
      "See the caveats in the documentation: https://pandas.pydata.org/pandas-docs/stable/user_guide/indexing.html#returning-a-view-versus-a-copy\n",
      "  data.loc[date(year=2018,month=2,day=1)]=[470600,335200,46200,89200]\n",
      "/var/folders/wb/86d7j5hx6lz71vnrk3q5ksmr0000gn/T/ipykernel_46924/43340782.py:4: SettingWithCopyWarning: \n",
      "A value is trying to be set on a copy of a slice from a DataFrame\n",
      "\n",
      "See the caveats in the documentation: https://pandas.pydata.org/pandas-docs/stable/user_guide/indexing.html#returning-a-view-versus-a-copy\n",
      "  data.loc[date(year=2014,month=4,day=1)]=[752200,586500,65600,100100]\n",
      "/var/folders/wb/86d7j5hx6lz71vnrk3q5ksmr0000gn/T/ipykernel_46924/43340782.py:5: SettingWithCopyWarning: \n",
      "A value is trying to be set on a copy of a slice from a DataFrame\n",
      "\n",
      "See the caveats in the documentation: https://pandas.pydata.org/pandas-docs/stable/user_guide/indexing.html#returning-a-view-versus-a-copy\n",
      "  data.loc[date(year=2011,month=10,day=1)]=[777400,622700,61600,93100]\n",
      "/var/folders/wb/86d7j5hx6lz71vnrk3q5ksmr0000gn/T/ipykernel_46924/43340782.py:6: SettingWithCopyWarning: \n",
      "A value is trying to be set on a copy of a slice from a DataFrame\n",
      "\n",
      "See the caveats in the documentation: https://pandas.pydata.org/pandas-docs/stable/user_guide/indexing.html#returning-a-view-versus-a-copy\n",
      "  data.loc[date(year=2011,month=12,day=1)]=[610500,486700,51600,72200]\n"
     ]
    }
   ],
   "source": [
    "#2021-10-01，2018-02-01，2014-04-01，2011-10-01\n",
    "data.loc[date(year=2021,month=10,day=1)]=[101100,54300,19600,27200]\n",
    "data.loc[date(year=2018,month=2,day=1)]=[470600,335200,46200,89200]\n",
    "data.loc[date(year=2014,month=4,day=1)]=[752200,586500,65600,100100]\n",
    "data.loc[date(year=2011,month=10,day=1)]=[777400,622700,61600,93100]\n",
    "data.loc[date(year=2011,month=12,day=1)]=[610500,486700,51600,72200]\n",
    "# add data where originally does not exist\n",
    "# 2022-02-01,72447,36222,12587,22844\n",
    "# 2022-03-01,70797,30970,13812,24392\n",
    "# 2022-04-01,5626,3310,984,1280\n",
    "# 2022-05-01,10629,6383,2073,2091\n",
    "data.loc[date(year=2022,month=5,day=1)]=[10629,6383,2073,2091]\n",
    "data.loc[date(year=2022,month=4,day=1)]=[5626,3310,984,1280]\n",
    "data.loc[date(year=2022,month=3,day=1)]=[70797,30970,13812,24392]\n",
    "data.loc[date(year=2022,month=2,day=1)]=[72447,36222,12587,22844]"
   ],
   "metadata": {
    "collapsed": false,
    "ExecuteTime": {
     "end_time": "2024-03-05T08:05:34.651812Z",
     "start_time": "2024-03-05T08:05:34.643089Z"
    }
   },
   "id": "d326ad8b86f338d4",
   "execution_count": 16
  },
  {
   "cell_type": "code",
   "outputs": [
    {
     "data": {
      "text/plain": "           sum_entry global_entry hkmo_entry tw_entry\n2011-01-01    541600       440000      42500    59100\n2011-02-01    572700       432800      45700    94200\n2011-03-01    683400       548100      56900    78400\n2011-04-01    706300       551900      65400    89000\n2011-05-01    706500       559400      56600    90500\n...              ...          ...        ...      ...\n2023-09-01    375600       269700      37600    68300\n2023-10-01    423200       291700      45800    85700\n2023-11-01    477700       343800      52300    81600\n2023-12-01    444900       315700      61600    67600\n2024-01-01    358300       255100      34800    68400\n\n[157 rows x 4 columns]",
      "text/html": "<div>\n<style scoped>\n    .dataframe tbody tr th:only-of-type {\n        vertical-align: middle;\n    }\n\n    .dataframe tbody tr th {\n        vertical-align: top;\n    }\n\n    .dataframe thead th {\n        text-align: right;\n    }\n</style>\n<table border=\"1\" class=\"dataframe\">\n  <thead>\n    <tr style=\"text-align: right;\">\n      <th></th>\n      <th>sum_entry</th>\n      <th>global_entry</th>\n      <th>hkmo_entry</th>\n      <th>tw_entry</th>\n    </tr>\n  </thead>\n  <tbody>\n    <tr>\n      <th>2011-01-01</th>\n      <td>541600</td>\n      <td>440000</td>\n      <td>42500</td>\n      <td>59100</td>\n    </tr>\n    <tr>\n      <th>2011-02-01</th>\n      <td>572700</td>\n      <td>432800</td>\n      <td>45700</td>\n      <td>94200</td>\n    </tr>\n    <tr>\n      <th>2011-03-01</th>\n      <td>683400</td>\n      <td>548100</td>\n      <td>56900</td>\n      <td>78400</td>\n    </tr>\n    <tr>\n      <th>2011-04-01</th>\n      <td>706300</td>\n      <td>551900</td>\n      <td>65400</td>\n      <td>89000</td>\n    </tr>\n    <tr>\n      <th>2011-05-01</th>\n      <td>706500</td>\n      <td>559400</td>\n      <td>56600</td>\n      <td>90500</td>\n    </tr>\n    <tr>\n      <th>...</th>\n      <td>...</td>\n      <td>...</td>\n      <td>...</td>\n      <td>...</td>\n    </tr>\n    <tr>\n      <th>2023-09-01</th>\n      <td>375600</td>\n      <td>269700</td>\n      <td>37600</td>\n      <td>68300</td>\n    </tr>\n    <tr>\n      <th>2023-10-01</th>\n      <td>423200</td>\n      <td>291700</td>\n      <td>45800</td>\n      <td>85700</td>\n    </tr>\n    <tr>\n      <th>2023-11-01</th>\n      <td>477700</td>\n      <td>343800</td>\n      <td>52300</td>\n      <td>81600</td>\n    </tr>\n    <tr>\n      <th>2023-12-01</th>\n      <td>444900</td>\n      <td>315700</td>\n      <td>61600</td>\n      <td>67600</td>\n    </tr>\n    <tr>\n      <th>2024-01-01</th>\n      <td>358300</td>\n      <td>255100</td>\n      <td>34800</td>\n      <td>68400</td>\n    </tr>\n  </tbody>\n</table>\n<p>157 rows × 4 columns</p>\n</div>"
     },
     "execution_count": 21,
     "metadata": {},
     "output_type": "execute_result"
    }
   ],
   "source": [
    "import pandas as pd\n",
    "\n",
    "# 假设你的DataFrame是df，并且索引已经是datetime类型\n",
    "# 如果不是，你需要先转换索引\n",
    "data = data[~data.index.duplicated(keep='first')]\n",
    "data.index = pd.to_datetime(data.index)\n",
    "\n",
    "# 创建一个起始日期和结束日期之间的完整月份日期序列\n",
    "# 假设起始日期和结束日期分别是你的DataFrame中的最小和最大日期\n",
    "start_date = data.index.min()\n",
    "end_date = data.index.max()\n",
    "full_date_range = pd.date_range(start=start_date, end=end_date, freq='MS') # 'MS' 代表月初\n",
    "\n",
    "# 使用 reindex 补全缺失的日期\n",
    "data = data.reindex(full_date_range)\n",
    "\n",
    "# 查看结果\n",
    "data"
   ],
   "metadata": {
    "collapsed": false,
    "ExecuteTime": {
     "end_time": "2024-03-05T08:10:32.226457Z",
     "start_time": "2024-03-05T08:10:32.214048Z"
    }
   },
   "id": "51862e67b27b843",
   "execution_count": 21
  },
  {
   "cell_type": "code",
   "outputs": [
    {
     "data": {
      "text/plain": "           sum_entry global_entry hkmo_entry tw_entry\n2011-01-01    541600       440000      42500    59100\n2011-02-01    572700       432800      45700    94200\n2011-03-01    683400       548100      56900    78400\n2011-04-01    706300       551900      65400    89000\n2011-05-01    706500       559400      56600    90500\n...              ...          ...        ...      ...\n2023-09-01    375600       269700      37600    68300\n2023-10-01    423200       291700      45800    85700\n2023-11-01    477700       343800      52300    81600\n2023-12-01    444900       315700      61600    67600\n2024-01-01    358300       255100      34800    68400\n\n[157 rows x 4 columns]",
      "text/html": "<div>\n<style scoped>\n    .dataframe tbody tr th:only-of-type {\n        vertical-align: middle;\n    }\n\n    .dataframe tbody tr th {\n        vertical-align: top;\n    }\n\n    .dataframe thead th {\n        text-align: right;\n    }\n</style>\n<table border=\"1\" class=\"dataframe\">\n  <thead>\n    <tr style=\"text-align: right;\">\n      <th></th>\n      <th>sum_entry</th>\n      <th>global_entry</th>\n      <th>hkmo_entry</th>\n      <th>tw_entry</th>\n    </tr>\n  </thead>\n  <tbody>\n    <tr>\n      <th>2011-01-01</th>\n      <td>541600</td>\n      <td>440000</td>\n      <td>42500</td>\n      <td>59100</td>\n    </tr>\n    <tr>\n      <th>2011-02-01</th>\n      <td>572700</td>\n      <td>432800</td>\n      <td>45700</td>\n      <td>94200</td>\n    </tr>\n    <tr>\n      <th>2011-03-01</th>\n      <td>683400</td>\n      <td>548100</td>\n      <td>56900</td>\n      <td>78400</td>\n    </tr>\n    <tr>\n      <th>2011-04-01</th>\n      <td>706300</td>\n      <td>551900</td>\n      <td>65400</td>\n      <td>89000</td>\n    </tr>\n    <tr>\n      <th>2011-05-01</th>\n      <td>706500</td>\n      <td>559400</td>\n      <td>56600</td>\n      <td>90500</td>\n    </tr>\n    <tr>\n      <th>...</th>\n      <td>...</td>\n      <td>...</td>\n      <td>...</td>\n      <td>...</td>\n    </tr>\n    <tr>\n      <th>2023-09-01</th>\n      <td>375600</td>\n      <td>269700</td>\n      <td>37600</td>\n      <td>68300</td>\n    </tr>\n    <tr>\n      <th>2023-10-01</th>\n      <td>423200</td>\n      <td>291700</td>\n      <td>45800</td>\n      <td>85700</td>\n    </tr>\n    <tr>\n      <th>2023-11-01</th>\n      <td>477700</td>\n      <td>343800</td>\n      <td>52300</td>\n      <td>81600</td>\n    </tr>\n    <tr>\n      <th>2023-12-01</th>\n      <td>444900</td>\n      <td>315700</td>\n      <td>61600</td>\n      <td>67600</td>\n    </tr>\n    <tr>\n      <th>2024-01-01</th>\n      <td>358300</td>\n      <td>255100</td>\n      <td>34800</td>\n      <td>68400</td>\n    </tr>\n  </tbody>\n</table>\n<p>157 rows × 4 columns</p>\n</div>"
     },
     "execution_count": 25,
     "metadata": {},
     "output_type": "execute_result"
    }
   ],
   "source": [
    "data.loc[datetime.strptime(\"2020-01-01\",\"%Y-%m-%d\")] = [489800,377100,43000,69700]\n",
    "data.loc[datetime.strptime(\"2020-05-01\",\"%Y-%m-%d\")] =[46900,24900,5800,16200]\n",
    "data.loc[datetime.strptime(\"2020-06-01\",\"%Y-%m-%d\")] =[53100,30100,6500,16500]\n",
    "\n",
    "data"
   ],
   "metadata": {
    "collapsed": false,
    "ExecuteTime": {
     "end_time": "2024-03-05T08:15:28.519490Z",
     "start_time": "2024-03-05T08:15:28.509533Z"
    }
   },
   "id": "3521eee47dfcdd9f",
   "execution_count": 25
  },
  {
   "cell_type": "code",
   "outputs": [
    {
     "data": {
      "text/plain": "                                                   url\n0    https://tjj.sh.gov.cn/ydsj56/20240227/6da1265d...\n1    https://tjj.sh.gov.cn/ydsj56/20240122/e66b8eaf...\n2    https://tjj.sh.gov.cn/ydsj56/20231219/d11f5c3c...\n3    https://tjj.sh.gov.cn/ydsj56/20231116/0b214e31...\n4    https://tjj.sh.gov.cn/ydsj56/20231018/6eeaed71...\n..                                                 ...\n148  https://tjj.sh.gov.cn/ydsj56/20110606/0014-235...\n149  https://tjj.sh.gov.cn/ydsj56/20110508/0014-235...\n150  https://tjj.sh.gov.cn/ydsj56/20110406/0014-235...\n151  https://tjj.sh.gov.cn/ydsj56/20110307/0014-235...\n152  https://tjj.sh.gov.cn/ydsj56/20110206/0014-235...\n\n[153 rows x 1 columns]",
      "text/html": "<div>\n<style scoped>\n    .dataframe tbody tr th:only-of-type {\n        vertical-align: middle;\n    }\n\n    .dataframe tbody tr th {\n        vertical-align: top;\n    }\n\n    .dataframe thead th {\n        text-align: right;\n    }\n</style>\n<table border=\"1\" class=\"dataframe\">\n  <thead>\n    <tr style=\"text-align: right;\">\n      <th></th>\n      <th>url</th>\n    </tr>\n  </thead>\n  <tbody>\n    <tr>\n      <th>0</th>\n      <td>https://tjj.sh.gov.cn/ydsj56/20240227/6da1265d...</td>\n    </tr>\n    <tr>\n      <th>1</th>\n      <td>https://tjj.sh.gov.cn/ydsj56/20240122/e66b8eaf...</td>\n    </tr>\n    <tr>\n      <th>2</th>\n      <td>https://tjj.sh.gov.cn/ydsj56/20231219/d11f5c3c...</td>\n    </tr>\n    <tr>\n      <th>3</th>\n      <td>https://tjj.sh.gov.cn/ydsj56/20231116/0b214e31...</td>\n    </tr>\n    <tr>\n      <th>4</th>\n      <td>https://tjj.sh.gov.cn/ydsj56/20231018/6eeaed71...</td>\n    </tr>\n    <tr>\n      <th>...</th>\n      <td>...</td>\n    </tr>\n    <tr>\n      <th>148</th>\n      <td>https://tjj.sh.gov.cn/ydsj56/20110606/0014-235...</td>\n    </tr>\n    <tr>\n      <th>149</th>\n      <td>https://tjj.sh.gov.cn/ydsj56/20110508/0014-235...</td>\n    </tr>\n    <tr>\n      <th>150</th>\n      <td>https://tjj.sh.gov.cn/ydsj56/20110406/0014-235...</td>\n    </tr>\n    <tr>\n      <th>151</th>\n      <td>https://tjj.sh.gov.cn/ydsj56/20110307/0014-235...</td>\n    </tr>\n    <tr>\n      <th>152</th>\n      <td>https://tjj.sh.gov.cn/ydsj56/20110206/0014-235...</td>\n    </tr>\n  </tbody>\n</table>\n<p>153 rows × 1 columns</p>\n</div>"
     },
     "execution_count": 27,
     "metadata": {},
     "output_type": "execute_result"
    }
   ],
   "source": [
    "df_links = pd.DataFrame(full_links,columns=['url'])\n",
    "df_links"
   ],
   "metadata": {
    "collapsed": false,
    "ExecuteTime": {
     "end_time": "2024-03-05T08:17:31.448396Z",
     "start_time": "2024-03-05T08:17:31.442314Z"
    }
   },
   "id": "ad2ea16926770d43",
   "execution_count": 27
  },
  {
   "cell_type": "code",
   "outputs": [
    {
     "data": {
      "text/plain": "153"
     },
     "execution_count": 28,
     "metadata": {},
     "output_type": "execute_result"
    }
   ],
   "source": [
    "from sqlalchemy import create_engine\n",
    "\n",
    "database_url = \"sqlite:///../data/data.sqlite\"\n",
    "engine = create_engine(database_url)\n",
    "\n",
    "data.to_sql('sh_customs', con=engine, if_exists='replace', index=True)\n",
    "df_links.to_sql('sh_links', con=engine, if_exists='replace', index=True)"
   ],
   "metadata": {
    "collapsed": false,
    "ExecuteTime": {
     "end_time": "2024-03-05T08:18:40.073129Z",
     "start_time": "2024-03-05T08:18:39.978376Z"
    }
   },
   "id": "b7f97e6d3ec522d9",
   "execution_count": 28
  }
 ],
 "metadata": {
  "kernelspec": {
   "display_name": "Python 3",
   "language": "python",
   "name": "python3"
  },
  "language_info": {
   "codemirror_mode": {
    "name": "ipython",
    "version": 2
   },
   "file_extension": ".py",
   "mimetype": "text/x-python",
   "name": "python",
   "nbconvert_exporter": "python",
   "pygments_lexer": "ipython2",
   "version": "2.7.6"
  }
 },
 "nbformat": 4,
 "nbformat_minor": 5
}
