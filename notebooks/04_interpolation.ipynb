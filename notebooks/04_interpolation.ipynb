{
 "cells": [
  {
   "cell_type": "markdown",
   "id": "691897ae02658cd2",
   "metadata": {
    "collapsed": false
   },
   "source": [
    "# 将上海市旅游数据月分为日\n",
    "\n",
    "## 1.数据准备\n",
    "原则：将之前预测的2019全年数据分配作为上海市旅游入境疫情前全年数据日分配，2020-2024依照异常数据处理原则每年一分配"
   ]
  },
  {
   "cell_type": "code",
   "execution_count": 1,
   "id": "initial_id",
   "metadata": {
    "collapsed": true,
    "ExecuteTime": {
     "end_time": "2024-03-05T01:16:16.202039Z",
     "start_time": "2024-03-05T01:16:15.104262Z"
    }
   },
   "outputs": [],
   "source": [
    "from sqlalchemy import create_engine\n",
    "import pandas as pd\n",
    "import matplotlib.pyplot as plt\n",
    "import torch\n",
    "\n",
    "# 创建数据库引擎\n",
    "database_url = \"sqlite:///../data/data.sqlite\"\n",
    "engine = create_engine(database_url)\n",
    "\n",
    "imputed_data_query = f\"SELECT * FROM hk_customs_daily_imputed\"\n",
    "df = pd.read_sql_query(imputed_data_query, engine, index_col='date',parse_dates=['date'])"
   ]
  },
  {
   "cell_type": "code",
   "execution_count": 2,
   "id": "30019a634e16b39f",
   "metadata": {
    "collapsed": false,
    "ExecuteTime": {
     "end_time": "2024-03-05T01:16:16.209246Z",
     "start_time": "2024-03-05T01:16:16.203062Z"
    }
   },
   "outputs": [],
   "source": [
    "# 计算每个月的总和\n",
    "monthly_sums = df.resample('ME').sum()\n",
    "# 初始化一个新的DataFrame来存储每日比例数据\n",
    "daily_ratio = pd.DataFrame(index=df.index)\n",
    "# 对于df中的每一列，计算每日比例\n",
    "for column in df.columns:\n",
    "    # 对于每个月，计算该月每一天的值占该月总和的比例\n",
    "    daily_ratio[column] = df[column] / df[column].resample('ME').transform('sum')"
   ]
  },
  {
   "cell_type": "code",
   "execution_count": 3,
   "id": "64f0d5140f84bc3d",
   "metadata": {
    "collapsed": false,
    "ExecuteTime": {
     "end_time": "2024-03-05T01:16:16.214049Z",
     "start_time": "2024-03-05T01:16:16.209832Z"
    }
   },
   "outputs": [],
   "source": [
    "regular_slice_start = '2019-01-01'\n",
    "regular_slice_end = '2019-12-31'\n",
    "special_slice_start = '2020-01-01'\n",
    "special_slice_end = '2024-01-31'\n",
    "\n",
    "regular_range = pd.date_range(start=pd.to_datetime(regular_slice_start), end=pd.to_datetime(regular_slice_end))\n",
    "epd_range = pd.date_range(start=pd.to_datetime(special_slice_start), end=pd.to_datetime(special_slice_end))\n",
    "\n",
    "regular_ratio = daily_ratio[regular_slice_start:regular_slice_end]\n",
    "special_ratio = daily_ratio[special_slice_start:special_slice_end]"
   ]
  },
  {
   "cell_type": "markdown",
   "source": [
    "# 数据插值\n",
    "疫情期间数据直接插值"
   ],
   "metadata": {
    "collapsed": false
   },
   "id": "b068ab4ee48f9e6a"
  },
  {
   "cell_type": "code",
   "outputs": [],
   "source": [
    "raw_data_query = f\"SELECT * FROM sh_customs\"\n",
    "sh_monthly = pd.read_sql_query(raw_data_query, engine, index_col='date',parse_dates=['date'])\n",
    "\n",
    "# 确定最后一个月的最后一天\n",
    "last_month = sh_monthly.index.max().to_period('M').to_timestamp('M')\n",
    "\n",
    "# 生成到最后一个月最后一天的完整日期范围，避免最后一个月没有值\n",
    "full_date_range = pd.date_range(start=sh_monthly.index.min(), end=last_month, freq='D')\n",
    "\n",
    "# 重采样并前向填充\n",
    "sh_daily_fake = sh_monthly.reindex(full_date_range).ffill()"
   ],
   "metadata": {
    "collapsed": false,
    "ExecuteTime": {
     "end_time": "2024-03-05T01:16:16.218403Z",
     "start_time": "2024-03-05T01:16:16.214593Z"
    }
   },
   "id": "481d0a2d0103a882",
   "execution_count": 4
  },
  {
   "cell_type": "markdown",
   "source": [
    "## 疫情期间数据插值"
   ],
   "metadata": {
    "collapsed": false
   },
   "id": "36ed573c201f1df8"
  },
  {
   "cell_type": "code",
   "execution_count": 5,
   "id": "eb8aa19d",
   "metadata": {
    "ExecuteTime": {
     "end_time": "2024-03-05T01:16:16.221761Z",
     "start_time": "2024-03-05T01:16:16.219479Z"
    }
   },
   "outputs": [],
   "source": [
    "# 为每个 DataFrame 创建年份和月份的列\n",
    "\n",
    "sh_daily_fake_epd = sh_daily_fake.loc[epd_range]\n",
    "\n",
    "# 使用pandas广播机制\n",
    "sh_daily_epd = sh_daily_fake_epd.multiply(special_ratio['CN_airport_departure'],axis=0).astype('int')\n",
    "# sh_daily = sh_daily_fake.loc[epd_range] * special_ratio['CN_airport_departure']"
   ]
  }
 ],
 "metadata": {
  "kernelspec": {
   "display_name": "Python 3",
   "language": "python",
   "name": "python3"
  },
  "language_info": {
   "codemirror_mode": {
    "name": "ipython",
    "version": 3
   },
   "file_extension": ".py",
   "mimetype": "text/x-python",
   "name": "python",
   "nbconvert_exporter": "python",
   "pygments_lexer": "ipython3",
   "version": "3.11.8"
  }
 },
 "nbformat": 4,
 "nbformat_minor": 5
}
