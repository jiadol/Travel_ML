{
 "cells": [
  {
   "cell_type": "code",
   "outputs": [],
   "source": [
    "%pip install pandas matplotlib mysqlclient sqlalchemy"
   ],
   "metadata": {
    "collapsed": false
   },
   "id": "8e98a66cd6b5b865",
   "execution_count": null
  },
  {
   "cell_type": "code",
   "execution_count": null,
   "id": "initial_id",
   "metadata": {
    "collapsed": true
   },
   "outputs": [],
   "source": [
    "from sqlalchemy import create_engine\n",
    "import pandas as pd\n",
    "import matplotlib.pyplot as plt\n",
    "\n",
    "# 替换以下字符串为你的数据库连接信息\n",
    "# 格式：'mysql+pymysql://用户名:密码@主机名:端口/数据库名'\n",
    "# HOST = \"gateway01.us-west-2.prod.aws.tidbcloud.com\"\n",
    "# PORT = 4000\n",
    "# USR = \"4JHciBfpftZR67E.root\"\n",
    "# PWD = \"aidBsAjcm2YUaFac\"\n",
    "# DB = \"data\"\n",
    "TABLE = \"hk_immigration_purge\"\n",
    "# database_url = f\"mysql+mysqldb://{USR}:{PWD}@{HOST}:{PORT}/{DB}\"\n",
    "database_url = 'sqlite:///../data/data.sqlite'\n",
    "\n",
    "# 创建数据库引擎\n",
    "engine = create_engine(database_url)"
   ]
  },
  {
   "cell_type": "code",
   "outputs": [],
   "source": [
    "query2020 = f\"SELECT * FROM {TABLE} WHERE 日期 >= '2020-05-01' AND 日期 <= '2020-12-31';\"\n",
    "df2020 = pd.read_sql_query(query2020, engine)\n",
    "\n",
    "query2021 = f\"SELECT * FROM {TABLE} WHERE 日期 >= '2021-01-01' AND 日期 <= '2021-12-31';\"\n",
    "df2021 = pd.read_sql_query(query2021, engine)\n",
    "\n",
    "query2022 = f\"SELECT * FROM {TABLE} WHERE 日期 >= '2022-01-01' AND 日期 <= '2022-12-31';\"\n",
    "df2022 = pd.read_sql_query(query2022, engine)\n",
    "\n",
    "query2023 = f\"SELECT * FROM {TABLE} WHERE 日期 >= '2023-01-01' AND 日期 <= '2023-12-31';\"\n",
    "df2023 = pd.read_sql_query(query2023, engine)"
   ],
   "metadata": {
    "collapsed": false
   },
   "id": "866ad4d4b81c9c94",
   "execution_count": 13
  },
  {
   "cell_type": "code",
   "outputs": [],
   "source": [
    "from matplotlib import font_manager\n",
    "# fname中选择一个你本机查询出来的字体 若没有中文字体则需要你本人手动安装\n",
    "plt.rc(\"font\",family='MicroSoft YaHei',weight=\"bold\")\n",
    "plt.rcParams['axes.unicode_minus'] = False  # 解决保存图像时负号'-'显示为方块的问题"
   ],
   "metadata": {
    "collapsed": false
   },
   "id": "4d7d019ab4623792",
   "execution_count": 14
  },
  {
   "cell_type": "code",
   "outputs": [],
   "source": [
    "import matplotlib.pyplot as plt\n",
    "import pandas as pd\n",
    "\n",
    "# 假设df2020, df2021, df2022, df2023已经被正确加载和预处理\n",
    "# 将日期列转换为日期时间格式\n",
    "df2020['日期'] = pd.to_datetime(df2020['日期'])\n",
    "df2021['日期'] = pd.to_datetime(df2021['日期'])\n",
    "df2022['日期'] = pd.to_datetime(df2022['日期'])\n",
    "df2023['日期'] = pd.to_datetime(df2023['日期'])\n",
    "\n",
    "# 设置图形大小并创建一个 2x2 的图表布局\n",
    "fig, axs = plt.subplots(2, 2, figsize=(20, 12))\n",
    "\n",
    "# 定义一个小函数来简化代码\n",
    "def plot_data(ax, df, title):\n",
    "    for column in df.columns:\n",
    "        if column != '日期':\n",
    "            ax.plot(df['日期'], df[column], label=column)\n",
    "    ax.legend()\n",
    "    ax.set_xlabel('Date')\n",
    "    ax.set_ylabel('Value')\n",
    "    ax.set_title(title)\n",
    "\n",
    "# 分别绘制每年的数据\n",
    "plot_data(axs[0, 0], df2020, 'Data Visualization 2020')\n",
    "plot_data(axs[0, 1], df2021, 'Data Visualization 2021')\n",
    "plot_data(axs[1, 0], df2022, 'Data Visualization 2022')\n",
    "plot_data(axs[1, 1], df2023, 'Data Visualization 2023')\n",
    "\n",
    "# 调整子图间距\n",
    "plt.tight_layout()\n",
    "plt.show()\n"
   ],
   "metadata": {
    "collapsed": false
   },
   "id": "95739c918d1501a7",
   "execution_count": 15
  },
  {
   "cell_type": "code",
   "outputs": [],
   "source": [
    "from sklearn.preprocessing import MinMaxScaler\n",
    "import matplotlib.pyplot as plt\n",
    "import pandas as pd\n",
    "\n",
    "# 假设df2020, df2021, df2022, df2023已经被正确加载和预处理\n",
    "# 将日期列转换为日期时间格式\n",
    "df2020['日期'] = pd.to_datetime(df2020['日期'])\n",
    "df2021['日期'] = pd.to_datetime(df2021['日期'])\n",
    "df2022['日期'] = pd.to_datetime(df2022['日期'])\n",
    "df2023['日期'] = pd.to_datetime(df2023['日期'])\n",
    "\n",
    "# 创建归一化器实例\n",
    "scaler = MinMaxScaler()\n",
    "\n",
    "# 定义一个函数来归一化除了日期外的所有列\n",
    "def normalize_df(df):\n",
    "    date_column = df['日期']\n",
    "    df_scaled = pd.DataFrame(scaler.fit_transform(df.drop('日期', axis=1)), columns=df.columns[1:])\n",
    "    df_scaled['日期'] = date_column\n",
    "    return df_scaled\n",
    "\n",
    "# 归一化数据\n",
    "df2020_normalized = normalize_df(df2020)\n",
    "df2021_normalized = normalize_df(df2021)\n",
    "df2022_normalized = normalize_df(df2022)\n",
    "df2023_normalized = normalize_df(df2023)\n",
    "\n",
    "# 绘图代码，使用归一化后的数据\n",
    "fig, axs = plt.subplots(2, 2, figsize=(20, 12))\n",
    "\n",
    "# 定义一个小函数来简化代码\n",
    "def plot_data(ax, df, title):\n",
    "    for column in df.columns:\n",
    "        if column != '日期':\n",
    "            ax.plot(df['日期'], df[column], label=column)\n",
    "    ax.legend()\n",
    "    ax.set_xlabel('Date')\n",
    "    ax.set_ylabel('Value')\n",
    "    ax.set_title(title)\n",
    "\n",
    "# 分别绘制每年的数据\n",
    "plot_data(axs[0, 0], df2020_normalized, 'Data Visualization 2020')\n",
    "plot_data(axs[0, 1], df2021_normalized, 'Data Visualization 2021')\n",
    "plot_data(axs[1, 0], df2022_normalized, 'Data Visualization 2022')\n",
    "plot_data(axs[1, 1], df2023_normalized, 'Data Visualization 2023')\n",
    "\n",
    "# 调整子图间距\n",
    "plt.tight_layout()\n",
    "plt.show()"
   ],
   "metadata": {
    "collapsed": false
   },
   "id": "126aacda2cb0a0a7",
   "execution_count": 16
  },
  {
   "cell_type": "code",
   "outputs": [],
   "source": [
    "import math\n",
    "import pandas as pd\n",
    "from dtaidistance import dtw\n",
    "import seaborn as sns\n",
    "import matplotlib.pyplot as plt\n",
    "\n",
    "# 假设 df 是你的DataFrame，并且所有列都是数值型数据\n",
    "df = df2023.drop(columns=['日期'])\n",
    "\n",
    "# 创建一个空的DataFrame用于存储DTW距离\n",
    "columns = df.columns\n",
    "distance_matrix = pd.DataFrame(index=columns, columns=columns, data=0.0)\n",
    "\n",
    "# 计算DTW距离并填充距离矩阵\n",
    "for col1 in df.columns:\n",
    "    for col2 in df.columns:\n",
    "        if col1 != col2:\n",
    "            distance = math.log(dtw.distance(df[col1].values, df[col2].values))\n",
    "            distance_matrix.loc[col1, col2] = distance\n",
    "        else:\n",
    "            # 对角线上的距离设置为0（同一个列与自己的距离）\n",
    "            distance_matrix.loc[col1, col2] = 0\n",
    "\n",
    "# 使用Seaborn绘制热图\n",
    "plt.figure(figsize=(10, 8))\n",
    "sns.heatmap(distance_matrix, annot=True, cmap=\"viridis\")\n",
    "plt.title(\"DTW Distance Matrix\")\n",
    "plt.show()\n"
   ],
   "metadata": {
    "collapsed": false
   },
   "id": "39bcd42b501120d8",
   "execution_count": null
  }
 ],
 "metadata": {
  "kernelspec": {
   "display_name": "Python 3",
   "language": "python",
   "name": "python3"
  },
  "language_info": {
   "codemirror_mode": {
    "name": "ipython",
    "version": 2
   },
   "file_extension": ".py",
   "mimetype": "text/x-python",
   "name": "python",
   "nbconvert_exporter": "python",
   "pygments_lexer": "ipython2",
   "version": "2.7.6"
  }
 },
 "nbformat": 4,
 "nbformat_minor": 5
}
