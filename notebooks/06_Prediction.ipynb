{
 "cells": [
  {
   "cell_type": "code",
   "execution_count": 3,
   "id": "initial_id",
   "metadata": {
    "collapsed": true,
    "ExecuteTime": {
     "end_time": "2024-03-18T06:30:49.895428Z",
     "start_time": "2024-03-18T06:30:49.127830Z"
    }
   },
   "outputs": [
    {
     "name": "stderr",
     "output_type": "stream",
     "text": [
      "Seed set to 42\n",
      "Seed set to 19\n",
      "Seed set to 42\n",
      "Seed set to 13\n",
      "Seed set to 42\n"
     ]
    },
    {
     "data": {
      "text/plain": "Predicting: |          | 0/? [00:00<?, ?it/s]",
      "application/vnd.jupyter.widget-view+json": {
       "version_major": 2,
       "version_minor": 0,
       "model_id": "03bfe12c8d804504b56654e349ac84c1"
      }
     },
     "metadata": {},
     "output_type": "display_data"
    },
    {
     "data": {
      "text/plain": "Predicting: |          | 0/? [00:00<?, ?it/s]",
      "application/vnd.jupyter.widget-view+json": {
       "version_major": 2,
       "version_minor": 0,
       "model_id": "e7f4f65303b548f4a3f0d36495459412"
      }
     },
     "metadata": {},
     "output_type": "display_data"
    },
    {
     "data": {
      "text/plain": "Predicting: |          | 0/? [00:00<?, ?it/s]",
      "application/vnd.jupyter.widget-view+json": {
       "version_major": 2,
       "version_minor": 0,
       "model_id": "6f6c63c40add4c6486649aef0d9ce604"
      }
     },
     "metadata": {},
     "output_type": "display_data"
    },
    {
     "data": {
      "text/plain": "Predicting: |          | 0/? [00:00<?, ?it/s]",
      "application/vnd.jupyter.widget-view+json": {
       "version_major": 2,
       "version_minor": 0,
       "model_id": "95a0301815d94696bf868926145ec7d5"
      }
     },
     "metadata": {},
     "output_type": "display_data"
    },
    {
     "data": {
      "text/plain": "Predicting: |          | 0/? [00:00<?, ?it/s]",
      "application/vnd.jupyter.widget-view+json": {
       "version_major": 2,
       "version_minor": 0,
       "model_id": "1f4d0f1ce858487680ca1f2b843ac03a"
      }
     },
     "metadata": {},
     "output_type": "display_data"
    },
    {
     "data": {
      "text/plain": "       unique_id         ds    Autoformer     Informer          LSTM  \\\n0   global_entry 2024-02-01   7923.818848  7147.410156   8355.111328   \n1   global_entry 2024-02-02  10143.416992  9272.974609  10723.492188   \n2   global_entry 2024-02-03   9219.765625  9981.777344  10890.587891   \n3   global_entry 2024-02-04   9417.776367  9304.188477   9637.114258   \n4   global_entry 2024-02-05   8287.487305  8452.677734   8338.943359   \n..           ...        ...           ...          ...           ...   \n85      tw_entry 2024-02-26   1939.897949  1584.357544   1827.230225   \n86      tw_entry 2024-02-27   2009.725586  1531.997314   1810.260620   \n87      tw_entry 2024-02-28   2171.738037  1526.245850   1949.221191   \n88      tw_entry 2024-02-29   2088.634033  1530.458740   2215.718018   \n89      tw_entry 2024-03-01   1978.404297  1533.383301   2263.472900   \n\n          NHITS     PatchTST  \n0   6283.323730  7805.772949  \n1   6275.567383  8996.676758  \n2   6270.283203  8548.030273  \n3   6264.491211  8485.311523  \n4   6256.615234  7893.726562  \n..          ...          ...  \n85  1670.278076  2349.284668  \n86  1665.703735  2358.988525  \n87  1667.895508  2318.648438  \n88  1672.107910  2042.097168  \n89  1658.987671  1926.263550  \n\n[90 rows x 7 columns]",
      "text/html": "<div>\n<style scoped>\n    .dataframe tbody tr th:only-of-type {\n        vertical-align: middle;\n    }\n\n    .dataframe tbody tr th {\n        vertical-align: top;\n    }\n\n    .dataframe thead th {\n        text-align: right;\n    }\n</style>\n<table border=\"1\" class=\"dataframe\">\n  <thead>\n    <tr style=\"text-align: right;\">\n      <th></th>\n      <th>unique_id</th>\n      <th>ds</th>\n      <th>Autoformer</th>\n      <th>Informer</th>\n      <th>LSTM</th>\n      <th>NHITS</th>\n      <th>PatchTST</th>\n    </tr>\n  </thead>\n  <tbody>\n    <tr>\n      <th>0</th>\n      <td>global_entry</td>\n      <td>2024-02-01</td>\n      <td>7923.818848</td>\n      <td>7147.410156</td>\n      <td>8355.111328</td>\n      <td>6283.323730</td>\n      <td>7805.772949</td>\n    </tr>\n    <tr>\n      <th>1</th>\n      <td>global_entry</td>\n      <td>2024-02-02</td>\n      <td>10143.416992</td>\n      <td>9272.974609</td>\n      <td>10723.492188</td>\n      <td>6275.567383</td>\n      <td>8996.676758</td>\n    </tr>\n    <tr>\n      <th>2</th>\n      <td>global_entry</td>\n      <td>2024-02-03</td>\n      <td>9219.765625</td>\n      <td>9981.777344</td>\n      <td>10890.587891</td>\n      <td>6270.283203</td>\n      <td>8548.030273</td>\n    </tr>\n    <tr>\n      <th>3</th>\n      <td>global_entry</td>\n      <td>2024-02-04</td>\n      <td>9417.776367</td>\n      <td>9304.188477</td>\n      <td>9637.114258</td>\n      <td>6264.491211</td>\n      <td>8485.311523</td>\n    </tr>\n    <tr>\n      <th>4</th>\n      <td>global_entry</td>\n      <td>2024-02-05</td>\n      <td>8287.487305</td>\n      <td>8452.677734</td>\n      <td>8338.943359</td>\n      <td>6256.615234</td>\n      <td>7893.726562</td>\n    </tr>\n    <tr>\n      <th>...</th>\n      <td>...</td>\n      <td>...</td>\n      <td>...</td>\n      <td>...</td>\n      <td>...</td>\n      <td>...</td>\n      <td>...</td>\n    </tr>\n    <tr>\n      <th>85</th>\n      <td>tw_entry</td>\n      <td>2024-02-26</td>\n      <td>1939.897949</td>\n      <td>1584.357544</td>\n      <td>1827.230225</td>\n      <td>1670.278076</td>\n      <td>2349.284668</td>\n    </tr>\n    <tr>\n      <th>86</th>\n      <td>tw_entry</td>\n      <td>2024-02-27</td>\n      <td>2009.725586</td>\n      <td>1531.997314</td>\n      <td>1810.260620</td>\n      <td>1665.703735</td>\n      <td>2358.988525</td>\n    </tr>\n    <tr>\n      <th>87</th>\n      <td>tw_entry</td>\n      <td>2024-02-28</td>\n      <td>2171.738037</td>\n      <td>1526.245850</td>\n      <td>1949.221191</td>\n      <td>1667.895508</td>\n      <td>2318.648438</td>\n    </tr>\n    <tr>\n      <th>88</th>\n      <td>tw_entry</td>\n      <td>2024-02-29</td>\n      <td>2088.634033</td>\n      <td>1530.458740</td>\n      <td>2215.718018</td>\n      <td>1672.107910</td>\n      <td>2042.097168</td>\n    </tr>\n    <tr>\n      <th>89</th>\n      <td>tw_entry</td>\n      <td>2024-03-01</td>\n      <td>1978.404297</td>\n      <td>1533.383301</td>\n      <td>2263.472900</td>\n      <td>1658.987671</td>\n      <td>1926.263550</td>\n    </tr>\n  </tbody>\n</table>\n<p>90 rows × 7 columns</p>\n</div>"
     },
     "execution_count": 3,
     "metadata": {},
     "output_type": "execute_result"
    }
   ],
   "source": [
    "from neuralforecast import NeuralForecast\n",
    "\n",
    "nf = NeuralForecast.load(path='../models/nerualforecast_models')\n",
    "Y_hat_df = nf.predict().reset_index()\n",
    "Y_hat_df"
   ]
  }
 ],
 "metadata": {
  "kernelspec": {
   "display_name": "Python 3",
   "language": "python",
   "name": "python3"
  },
  "language_info": {
   "codemirror_mode": {
    "name": "ipython",
    "version": 2
   },
   "file_extension": ".py",
   "mimetype": "text/x-python",
   "name": "python",
   "nbconvert_exporter": "python",
   "pygments_lexer": "ipython2",
   "version": "2.7.6"
  }
 },
 "nbformat": 4,
 "nbformat_minor": 5
}
